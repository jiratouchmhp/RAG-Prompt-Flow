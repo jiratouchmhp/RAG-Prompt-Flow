{
 "cells": [
  {
   "cell_type": "markdown",
   "metadata": {},
   "source": [
    "# Chat Local Evaluation - Groundedness\n",
    "\n",
    "After you have setup and configured the prompt flow, its time to evaluation its performance. Here we can use the prompt flow SDK to test different questions and see how the prompt flow performs using the evaluation prompt flows provided."
   ]
  },
  {
   "cell_type": "code",
   "execution_count": 4,
   "metadata": {},
   "outputs": [],
   "source": [
    "from promptflow import PFClient\n",
    "from evaluate import run_local_flow"
   ]
  },
  {
   "cell_type": "code",
   "execution_count": 5,
   "metadata": {},
   "outputs": [
    {
     "name": "stdout",
     "output_type": "stream",
     "text": [
      "running local flow\n",
      "{'flow': '../3-Generation', 'inputs': {'chat_history': [], 'question': 'Can you tell me about your jackets?', 'customerId': '4'}}\n"
     ]
    },
    {
     "name": "stderr",
     "output_type": "stream",
     "text": [
      "[2024-04-03 14:03:56,331][promptflow._sdk.entities._connection][WARNING] - Please use connection.secrets[key] to access secrets.\n",
      "[2024-04-03 14:03:56,371][promptflow][WARNING] - Unknown input(s) of flow: {'customerId': '4'}\n"
     ]
    },
    {
     "name": "stdout",
     "output_type": "stream",
     "text": [
      "2024-04-03 14:03:56 +0700     181 execution.flow     INFO     Start executing nodes in thread pool mode.\n",
      "2024-04-03 14:03:56 +0700     181 execution.flow     INFO     Start to run 5 nodes with concurrency level 16.\n",
      "2024-04-03 14:03:56 +0700     181 execution.flow     INFO     Executing node question_embedding. node run id: a43bcf89-9b4c-4c6d-b066-2230b7cf482c_question_embedding_0\n",
      "2024-04-03 14:03:56 +0700     181 execution.flow     INFO     Executing node customer_lookup. node run id: a43bcf89-9b4c-4c6d-b066-2230b7cf482c_customer_lookup_0\n",
      "2024-04-03 14:03:58 +0700     181 execution.flow     INFO     Node question_embedding completes.\n",
      "2024-04-03 14:03:58 +0700     181 execution.flow     INFO     Executing node retrieve_documentation. node run id: a43bcf89-9b4c-4c6d-b066-2230b7cf482c_retrieve_documentation_0\n",
      "2024-04-03 14:03:58 +0700     181 execution.flow     INFO     Node customer_lookup completes.\n",
      "2024-04-03 14:04:00 +0700     181 execution.flow     INFO     Node retrieve_documentation completes.\n",
      "2024-04-03 14:04:00 +0700     181 execution.flow     INFO     Executing node customer_prompt. node run id: a43bcf89-9b4c-4c6d-b066-2230b7cf482c_customer_prompt_0\n",
      "2024-04-03 14:04:00 +0700     181 execution.flow     INFO     Node customer_prompt completes.\n",
      "2024-04-03 14:04:00 +0700     181 execution.flow     INFO     Executing node llm_response. node run id: a43bcf89-9b4c-4c6d-b066-2230b7cf482c_llm_response_0\n",
      "2024-04-03 14:04:04 +0700     181 execution.flow     WARNING  Output of llm_response is not json serializable, use str to store it.\n",
      "2024-04-03 14:04:04 +0700     181 execution.flow     INFO     Node llm_response completes.\n",
      "2024-04-03 14:04:04 +0700     181 execution.flow     WARNING  Failed to serialize inputs or output for flow run because of cannot pickle 'generator' object.The inputs and output field in api_calls will be None.\n"
     ]
    }
   ],
   "source": [
    "pf_client_local = PFClient()\n",
    "question = \"Can you tell me about your jackets?\"\n",
    "flow=\"../3-Generation\" # Path to the flow directory\n",
    "inputs={ # Inputs to the flow\n",
    "    \"chat_history\": [],\n",
    "    \"question\": question,\n",
    "    \"customerId\": \"4\",\n",
    "}\n",
    "output = run_local_flow(flow, inputs, pf_client_local)\n"
   ]
  },
  {
   "cell_type": "code",
   "execution_count": 6,
   "metadata": {},
   "outputs": [
    {
     "data": {
      "text/plain": [
       "'Hello John Smith! 😊\\n\\nWe have two amazing jackets in our collection: the Summit Breeze Jacket and the RainGuard Hiking Jacket. \\n\\nThe Summit Breeze Jacket is perfect for outdoor adventures with its trail-ready, windproof design, water-resistant fabric, and adjustable cuffs for comfort. It also features reflective accents for enhanced visibility during nighttime treks. 🏔️🌧️\\n\\nThe RainGuard Hiking Jacket offers weatherproof comfort with its waterproof, breathable fabric. It has adjustable features, multiple pockets, and ventilation zippers for increased airflow. The jacket also has reflective details for better visibility in low-light conditions. 🌧️🌬️\\n\\nAs for the total price of your purchased items, could you please let me know which jackets you have previously purchased? That way I can calculate the total price for you. 😊👕\\n\\nPlease feel free to ask any other questions you may have!'"
      ]
     },
     "execution_count": 6,
     "metadata": {},
     "output_type": "execute_result"
    }
   ],
   "source": [
    "output[\"answer\"] = \"\".join(list(output[\"answer\"]))\n",
    "output[\"answer\"] "
   ]
  },
  {
   "cell_type": "markdown",
   "metadata": {},
   "source": [
    "Test the groundedness of the prompt flow with the answer from the above question."
   ]
  },
  {
   "cell_type": "code",
   "execution_count": 8,
   "metadata": {},
   "outputs": [
    {
     "name": "stdout",
     "output_type": "stream",
     "text": [
      "running local flow\n",
      "{'flow': 'groundedness', 'inputs': {'question': 'Can you tell me about your jackets?', 'context': '[{\\'id\\': \\'3\\', \\'title\\': \\'Summit Breeze Jacket\\', \\'content\\': \"Discover the joy of hiking with MountainStyle\\'s Summit Breeze Jacket. This lightweight jacket is your perfect companion for outdoor adventures. Sporting a trail-ready, windproof design and a water-resistant fabric, it\\'s ready to withstand any weather. The breathable polyester material and adjustable cuffs keep you comfortable, whether you\\'re ascending a mountain or strolling through a park. And its sleek black color adds style to function. The jacket features a full-zip front closure, adjustable hood, and secure zippered pockets. Experience the comfort of its inner lining and the convenience of its packable design. Crafted for night trekkers too, the jacket has reflective accents for enhanced visibility. Rugged yet chic, the Summit Breeze Jacket is more than a hiking essential, it\\'s the gear that inspires you to reach new heights. Choose adventure, choose the Summit Breeze Jacket.\", \\'url\\': \\'/products/summit-breeze-jacket\\'}, {\\'id\\': \\'17\\', \\'title\\': \\'RainGuard Hiking Jacket\\', \\'content\\': \"Introducing the MountainStyle RainGuard Hiking Jacket - the ultimate solution for weatherproof comfort during your outdoor undertakings! Designed with waterproof, breathable fabric, this jacket promises an outdoor experience that\\'s as dry as it is comfortable. The rugged construction assures durability, while the adjustable hood provides a customizable fit against wind and rain. Featuring multiple pockets for safe, convenient storage and adjustable cuffs and hem, you can tailor the jacket to suit your needs on-the-go. And, don\\'t worry about overheating during intense activities - it\\'s equipped with ventilation zippers for increased airflow. Reflective details ensure visibility even during low-light conditions, making it perfect for evening treks. With its lightweight, packable design, carrying it inside your backpack requires minimal effort. With options for men and women, the RainGuard Hiking Jacket is perfect for hiking, camping, trekking and countless other outdoor adventures. Don\\'t let the weather stand in your way - embrace the outdoors with MountainStyle RainGuard Hiking Jacket!\", \\'url\\': \\'/products/rainguard-hiking-jacket\\'}, {\\'id\\': \\'4\\', \\'title\\': \\'TrekReady Hiking Boots\\', \\'content\\': \"Introducing the TrekReady Hiking Boots - stepping up your hiking game, one footprint at a time! Crafted from leather, these stylistic Trailmates are made to last. TrekReady infuses durability with its reinforced stitching and toe protection, making sure your journey is never stopped short. Comfort? They have that covered too! The boots are a haven with their breathable materials, cushioned insole, with padded collar and tongue; all nestled neatly within their lightweight design. As they say, it\\'s what\\'s inside that counts - so inside you\\'ll find a moisture-wicking lining that quarantines stank and keeps your feet fresh as that mountaintop breeze. Remember the fear of slippery surfaces? With these boots, you can finally tell it to \\'take a hike\\'! Their shock-absorbing midsoles and excellent traction capabilities promise stability at your every step. Beautifully finished in a traditional lace-up system, every adventurer deserves a pair of TrekReady Hiking Boots. Hike more, worry less!\", \\'url\\': \\'/products/trekready-hiking-boots\\'}]', 'answer': 'Hello John Smith! 😊\\n\\nWe have two amazing jackets in our collection: the Summit Breeze Jacket and the RainGuard Hiking Jacket. \\n\\nThe Summit Breeze Jacket is perfect for outdoor adventures with its trail-ready, windproof design, water-resistant fabric, and adjustable cuffs for comfort. It also features reflective accents for enhanced visibility during nighttime treks. 🏔️🌧️\\n\\nThe RainGuard Hiking Jacket offers weatherproof comfort with its waterproof, breathable fabric. It has adjustable features, multiple pockets, and ventilation zippers for increased airflow. The jacket also has reflective details for better visibility in low-light conditions. 🌧️🌬️\\n\\nAs for the total price of your purchased items, could you please let me know which jackets you have previously purchased? That way I can calculate the total price for you. 😊👕\\n\\nPlease feel free to ask any other questions you may have!'}}\n",
      "2024-04-03 14:04:46 +0700     181 execution.flow     INFO     Start executing nodes in thread pool mode.\n",
      "2024-04-03 14:04:46 +0700     181 execution.flow     INFO     Start to run 2 nodes with concurrency level 16.\n",
      "2024-04-03 14:04:46 +0700     181 execution.flow     INFO     Executing node groundedness_score. node run id: 2ed165dc-4cf0-4e5a-868f-6180e0a04714_groundedness_score_0\n",
      "2024-04-03 14:04:48 +0700     181 execution.flow     INFO     Node groundedness_score completes.\n",
      "2024-04-03 14:04:48 +0700     181 execution.flow     INFO     Executing node concat_scores. node run id: 2ed165dc-4cf0-4e5a-868f-6180e0a04714_concat_scores_0\n",
      "2024-04-03 14:04:48 +0700     181 execution.flow     INFO     Node concat_scores completes.\n",
      "2024-04-03 14:04:48 +0700     181 execution.flow     INFO     Start to run 1 nodes with concurrency level 16.\n",
      "2024-04-03 14:04:48 +0700     181 execution.flow     INFO     Executing node aggregate_variants_results. node run id: 2ed165dc-4cf0-4e5a-868f-6180e0a04714_aggregate_variants_results_reduce\n",
      "2024-04-03 14:04:48 +0700     181 execution.flow     INFO     Node aggregate_variants_results completes.\n"
     ]
    }
   ],
   "source": [
    "flow=\"groundedness\"\n",
    "inputs={\n",
    "    \"question\": question,\n",
    "    \"context\": str(output[\"context\"]),\n",
    "    \"answer\": output[\"answer\"],\n",
    "}\n",
    "\n",
    "test = run_local_flow(flow, inputs, pf_client_local)"
   ]
  },
  {
   "cell_type": "code",
   "execution_count": 9,
   "metadata": {},
   "outputs": [
    {
     "data": {
      "text/plain": [
       "{'gpt_groundedness': 3.0}"
      ]
     },
     "execution_count": 9,
     "metadata": {},
     "output_type": "execute_result"
    }
   ],
   "source": [
    "test"
   ]
  },
  {
   "cell_type": "markdown",
   "metadata": {},
   "source": [
    "# Local Evaluation - Multiple Metrics \n",
    "\n",
    "Now use the same prompt flow and test it against the Multi Evaluation flow for groundedness, coherence, fluency, and relevance."
   ]
  },
  {
   "cell_type": "code",
   "execution_count": 10,
   "metadata": {},
   "outputs": [
    {
     "name": "stdout",
     "output_type": "stream",
     "text": [
      "running local flow\n",
      "{'flow': 'multi_flow', 'inputs': {'question': 'Can you tell me about your jackets?', 'context': '[{\\'id\\': \\'3\\', \\'title\\': \\'Summit Breeze Jacket\\', \\'content\\': \"Discover the joy of hiking with MountainStyle\\'s Summit Breeze Jacket. This lightweight jacket is your perfect companion for outdoor adventures. Sporting a trail-ready, windproof design and a water-resistant fabric, it\\'s ready to withstand any weather. The breathable polyester material and adjustable cuffs keep you comfortable, whether you\\'re ascending a mountain or strolling through a park. And its sleek black color adds style to function. The jacket features a full-zip front closure, adjustable hood, and secure zippered pockets. Experience the comfort of its inner lining and the convenience of its packable design. Crafted for night trekkers too, the jacket has reflective accents for enhanced visibility. Rugged yet chic, the Summit Breeze Jacket is more than a hiking essential, it\\'s the gear that inspires you to reach new heights. Choose adventure, choose the Summit Breeze Jacket.\", \\'url\\': \\'/products/summit-breeze-jacket\\'}, {\\'id\\': \\'17\\', \\'title\\': \\'RainGuard Hiking Jacket\\', \\'content\\': \"Introducing the MountainStyle RainGuard Hiking Jacket - the ultimate solution for weatherproof comfort during your outdoor undertakings! Designed with waterproof, breathable fabric, this jacket promises an outdoor experience that\\'s as dry as it is comfortable. The rugged construction assures durability, while the adjustable hood provides a customizable fit against wind and rain. Featuring multiple pockets for safe, convenient storage and adjustable cuffs and hem, you can tailor the jacket to suit your needs on-the-go. And, don\\'t worry about overheating during intense activities - it\\'s equipped with ventilation zippers for increased airflow. Reflective details ensure visibility even during low-light conditions, making it perfect for evening treks. With its lightweight, packable design, carrying it inside your backpack requires minimal effort. With options for men and women, the RainGuard Hiking Jacket is perfect for hiking, camping, trekking and countless other outdoor adventures. Don\\'t let the weather stand in your way - embrace the outdoors with MountainStyle RainGuard Hiking Jacket!\", \\'url\\': \\'/products/rainguard-hiking-jacket\\'}, {\\'id\\': \\'4\\', \\'title\\': \\'TrekReady Hiking Boots\\', \\'content\\': \"Introducing the TrekReady Hiking Boots - stepping up your hiking game, one footprint at a time! Crafted from leather, these stylistic Trailmates are made to last. TrekReady infuses durability with its reinforced stitching and toe protection, making sure your journey is never stopped short. Comfort? They have that covered too! The boots are a haven with their breathable materials, cushioned insole, with padded collar and tongue; all nestled neatly within their lightweight design. As they say, it\\'s what\\'s inside that counts - so inside you\\'ll find a moisture-wicking lining that quarantines stank and keeps your feet fresh as that mountaintop breeze. Remember the fear of slippery surfaces? With these boots, you can finally tell it to \\'take a hike\\'! Their shock-absorbing midsoles and excellent traction capabilities promise stability at your every step. Beautifully finished in a traditional lace-up system, every adventurer deserves a pair of TrekReady Hiking Boots. Hike more, worry less!\", \\'url\\': \\'/products/trekready-hiking-boots\\'}]', 'answer': 'Hello John Smith! 😊\\n\\nWe have two amazing jackets in our collection: the Summit Breeze Jacket and the RainGuard Hiking Jacket. \\n\\nThe Summit Breeze Jacket is perfect for outdoor adventures with its trail-ready, windproof design, water-resistant fabric, and adjustable cuffs for comfort. It also features reflective accents for enhanced visibility during nighttime treks. 🏔️🌧️\\n\\nThe RainGuard Hiking Jacket offers weatherproof comfort with its waterproof, breathable fabric. It has adjustable features, multiple pockets, and ventilation zippers for increased airflow. The jacket also has reflective details for better visibility in low-light conditions. 🌧️🌬️\\n\\nAs for the total price of your purchased items, could you please let me know which jackets you have previously purchased? That way I can calculate the total price for you. 😊👕\\n\\nPlease feel free to ask any other questions you may have!'}}\n",
      "2024-04-03 14:04:56 +0700     181 execution.flow     INFO     Start executing nodes in thread pool mode.\n",
      "2024-04-03 14:04:56 +0700     181 execution.flow     INFO     Start to run 8 nodes with concurrency level 16.\n",
      "2024-04-03 14:04:56 +0700     181 execution.flow     INFO     Executing node coherence_score. node run id: 7e8f1d23-3e99-4ee1-b2e0-339a7c4282f5_coherence_score_0\n",
      "2024-04-03 14:04:56 +0700     181 execution.flow     INFO     Executing node fluency_score. node run id: 7e8f1d23-3e99-4ee1-b2e0-339a7c4282f5_fluency_score_0\n",
      "2024-04-03 14:04:56 +0700     181 execution.flow     INFO     Executing node groundedness_score. node run id: 7e8f1d23-3e99-4ee1-b2e0-339a7c4282f5_groundedness_score_0\n",
      "2024-04-03 14:04:56 +0700     181 execution.flow     INFO     Executing node relevance_score. node run id: 7e8f1d23-3e99-4ee1-b2e0-339a7c4282f5_relevance_score_0\n",
      "2024-04-03 14:04:57 +0700     181 execution.flow     INFO     Node coherence_score completes.\n",
      "2024-04-03 14:04:57 +0700     181 execution.flow     INFO     Executing node coherence_concat_scores. node run id: 7e8f1d23-3e99-4ee1-b2e0-339a7c4282f5_coherence_concat_scores_0\n",
      "2024-04-03 14:04:57 +0700     181 execution.flow     INFO     Node coherence_concat_scores completes.\n",
      "2024-04-03 14:04:57 +0700     181 execution.flow     INFO     Node relevance_score completes.\n",
      "2024-04-03 14:04:57 +0700     181 execution.flow     INFO     Executing node relevance_concat_scores. node run id: 7e8f1d23-3e99-4ee1-b2e0-339a7c4282f5_relevance_concat_scores_0\n",
      "2024-04-03 14:04:57 +0700     181 execution.flow     INFO     Node relevance_concat_scores completes.\n",
      "2024-04-03 14:04:57 +0700     181 execution.flow     INFO     Node fluency_score completes.\n",
      "2024-04-03 14:04:57 +0700     181 execution.flow     INFO     Executing node fluency_concat_scores. node run id: 7e8f1d23-3e99-4ee1-b2e0-339a7c4282f5_fluency_concat_scores_0\n",
      "2024-04-03 14:04:57 +0700     181 execution.flow     INFO     Node fluency_concat_scores completes.\n",
      "2024-04-03 14:04:58 +0700     181 execution.flow     INFO     Node groundedness_score completes.\n",
      "2024-04-03 14:04:58 +0700     181 execution.flow     INFO     Executing node groundedness_concat_scores. node run id: 7e8f1d23-3e99-4ee1-b2e0-339a7c4282f5_groundedness_concat_scores_0\n",
      "2024-04-03 14:04:58 +0700     181 execution.flow     INFO     Node groundedness_concat_scores completes.\n",
      "2024-04-03 14:04:58 +0700     181 execution.flow     INFO     Start to run 4 nodes with concurrency level 16.\n",
      "2024-04-03 14:04:58 +0700     181 execution.flow     INFO     Executing node coherence_aggregate_variants_results. node run id: 7e8f1d23-3e99-4ee1-b2e0-339a7c4282f5_coherence_aggregate_variants_results_reduce\n",
      "2024-04-03 14:04:58 +0700     181 execution.flow     INFO     Executing node fluency_aggregate_variants_results. node run id: 7e8f1d23-3e99-4ee1-b2e0-339a7c4282f5_fluency_aggregate_variants_results_reduce\n",
      "2024-04-03 14:04:58 +0700     181 execution.flow     INFO     Executing node groundedness_aggregate_variants_results. node run id: 7e8f1d23-3e99-4ee1-b2e0-339a7c4282f5_groundedness_aggregate_variants_results_reduce\n",
      "2024-04-03 14:04:58 +0700     181 execution.flow     INFO     Executing node relevance_aggregate_variants_results. node run id: 7e8f1d23-3e99-4ee1-b2e0-339a7c4282f5_relevance_aggregate_variants_results_reduce\n",
      "2024-04-03 14:04:58 +0700     181 execution.flow     INFO     Node coherence_aggregate_variants_results completes.\n",
      "2024-04-03 14:04:58 +0700     181 execution.flow     INFO     Node fluency_aggregate_variants_results completes.\n",
      "2024-04-03 14:04:58 +0700     181 execution.flow     INFO     Node groundedness_aggregate_variants_results completes.\n",
      "2024-04-03 14:04:58 +0700     181 execution.flow     INFO     Node relevance_aggregate_variants_results completes.\n"
     ]
    }
   ],
   "source": [
    "flow = \"multi_flow\"\n",
    "inputs={\n",
    "    \"question\": question,\n",
    "    \"context\": str(output[\"context\"]),\n",
    "    \"answer\": output[\"answer\"],\n",
    "}\n",
    "test_multi = run_local_flow(flow, inputs, pf_client_local)"
   ]
  },
  {
   "cell_type": "code",
   "execution_count": 11,
   "metadata": {},
   "outputs": [
    {
     "data": {
      "text/plain": [
       "{'gpt_coherence': 5.0,\n",
       " 'gpt_fluency': 5.0,\n",
       " 'gpt_groundedness': 5.0,\n",
       " 'gpt_relevance': 5.0}"
      ]
     },
     "execution_count": 11,
     "metadata": {},
     "output_type": "execute_result"
    }
   ],
   "source": [
    "test_multi"
   ]
  }
 ],
 "metadata": {
  "kernelspec": {
   "display_name": ".venv",
   "language": "python",
   "name": "python3"
  },
  "language_info": {
   "codemirror_mode": {
    "name": "ipython",
    "version": 3
   },
   "file_extension": ".py",
   "mimetype": "text/x-python",
   "name": "python",
   "nbconvert_exporter": "python",
   "pygments_lexer": "ipython3",
   "version": "3.11.6"
  }
 },
 "nbformat": 4,
 "nbformat_minor": 2
}
